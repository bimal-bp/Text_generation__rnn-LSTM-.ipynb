{
  "nbformat": 4,
  "nbformat_minor": 0,
  "metadata": {
    "colab": {
      "provenance": [],
      "authorship_tag": "ABX9TyMTLotI4ylflF3Phq1ge//X",
      "include_colab_link": true
    },
    "kernelspec": {
      "name": "python3",
      "display_name": "Python 3"
    },
    "language_info": {
      "name": "python"
    },
    "accelerator": "TPU"
  },
  "cells": [
    {
      "cell_type": "markdown",
      "metadata": {
        "id": "view-in-github",
        "colab_type": "text"
      },
      "source": [
        "<a href=\"https://colab.research.google.com/github/bimal-bp/Text_generation__rnn-LSTM-.ipynb/blob/ML_MODELS/Text_generation__rnn(LSTM).ipynb\" target=\"_parent\"><img src=\"https://colab.research.google.com/assets/colab-badge.svg\" alt=\"Open In Colab\"/></a>"
      ]
    },
    {
      "cell_type": "code",
      "source": [
        "# import libriess\n",
        "import numpy as np\n",
        "import pandas as pd\n",
        "import tensorflow as tf\n",
        "import matplotlib.pyplot as plt\n",
        "import seaborn as sns\n",
        "import platform\n",
        "import time\n",
        "import pathlib\n",
        "import os"
      ],
      "metadata": {
        "id": "Q-mB9vdc7BPX"
      },
      "execution_count": null,
      "outputs": []
    },
    {
      "cell_type": "code",
      "source": [
        "import tensorflow as tf\n",
        "import pathlib  # Import the pathlib module\n",
        "\n",
        "cache_dir = './tmp'\n",
        "dataset_file_name = 'shakespeare.txt'\n",
        "dataset_file_origin = 'https://storage.googleapis.com/download.tensorflow.org/data/shakespeare.txt'\n",
        "\n",
        "dataset_file_path = tf.keras.utils.get_file(\n",
        "    fname=dataset_file_name,\n",
        "    origin=dataset_file_origin,\n",
        "    cache_dir=pathlib.Path(cache_dir).absolute()\n",
        ")\n",
        "\n",
        "print(dataset_file_path)\n"
      ],
      "metadata": {
        "colab": {
          "base_uri": "https://localhost:8080/"
        },
        "id": "hGz7LzjM5Btf",
        "outputId": "3680d2bd-5b09-4800-e34e-ed0445fa2666"
      },
      "execution_count": null,
      "outputs": [
        {
          "output_type": "stream",
          "name": "stdout",
          "text": [
            "Downloading data from https://storage.googleapis.com/download.tensorflow.org/data/shakespeare.txt\n",
            "1115394/1115394 [==============================] - 0s 0us/step\n",
            "/tmp/.keras/datasets/shakespeare.txt\n"
          ]
        }
      ]
    },
    {
      "cell_type": "code",
      "source": [
        "# Reading the database file.\n",
        "text = open(dataset_file_path, mode='r').read()\n",
        "\n",
        "print('Length of text: {} characters'.format(len(text)))"
      ],
      "metadata": {
        "colab": {
          "base_uri": "https://localhost:8080/"
        },
        "id": "6lrbxVFY5aQs",
        "outputId": "116b3a11-7f7d-4e11-a695-3ef1b6f3845a"
      },
      "execution_count": null,
      "outputs": [
        {
          "output_type": "stream",
          "name": "stdout",
          "text": [
            "Length of text: 1115394 characters\n"
          ]
        }
      ]
    },
    {
      "cell_type": "code",
      "source": [
        "some=text[:250]\n",
        "# Split the text into lines\n",
        "lines = some.split('\\n')\n",
        "\n",
        "# Print each line\n",
        "for line in lines:\n",
        "    print(line)\n"
      ],
      "metadata": {
        "colab": {
          "base_uri": "https://localhost:8080/"
        },
        "id": "FkgVZ8Oc5jJx",
        "outputId": "02d76436-8dfa-4c6c-a0c6-787dd79d6bf6"
      },
      "execution_count": null,
      "outputs": [
        {
          "output_type": "stream",
          "name": "stdout",
          "text": [
            "First Citizen:\n",
            "Before we proceed any further, hear me speak.\n",
            "\n",
            "All:\n",
            "Speak, speak.\n",
            "\n",
            "First Citizen:\n",
            "You are all resolved rather to die than to famish?\n",
            "\n",
            "All:\n",
            "Resolved. resolved.\n",
            "\n",
            "First Citizen:\n",
            "First, you know Caius Marcius is chief enemy to the people.\n",
            "\n"
          ]
        }
      ]
    },
    {
      "cell_type": "code",
      "source": [
        "# the unique charcters in the file\n",
        "vocab=sorted(set(text))\n",
        "print('{} unique characterstics '.format(len(vocab)))\n",
        "print('vocab:',vocab)"
      ],
      "metadata": {
        "colab": {
          "base_uri": "https://localhost:8080/"
        },
        "id": "wqfQh-JW8P8N",
        "outputId": "d0f82bc4-a611-4e02-bf96-5b679d61d029"
      },
      "execution_count": null,
      "outputs": [
        {
          "output_type": "stream",
          "name": "stdout",
          "text": [
            "65 unique characterstics \n",
            "vocab: ['\\n', ' ', '!', '$', '&', \"'\", ',', '-', '.', '3', ':', ';', '?', 'A', 'B', 'C', 'D', 'E', 'F', 'G', 'H', 'I', 'J', 'K', 'L', 'M', 'N', 'O', 'P', 'Q', 'R', 'S', 'T', 'U', 'V', 'W', 'X', 'Y', 'Z', 'a', 'b', 'c', 'd', 'e', 'f', 'g', 'h', 'i', 'j', 'k', 'l', 'm', 'n', 'o', 'p', 'q', 'r', 's', 't', 'u', 'v', 'w', 'x', 'y', 'z']\n"
          ]
        }
      ]
    },
    {
      "cell_type": "code",
      "source": [
        "# vectorize the text\n",
        "# map charcters to their indices i vocabulary\n",
        "# Sample vocabulary (replace with your actual vocabulary)\n",
        "\n",
        "char2index = {char: index for index, char in enumerate(vocab)}\n",
        "print('{')\n",
        "for char, index in list(char2index.items())[:20]:\n",
        "    print('{:4s}:{:3d},'.format(repr(char), index))\n",
        "print('...\\n')\n"
      ],
      "metadata": {
        "colab": {
          "base_uri": "https://localhost:8080/"
        },
        "id": "MMKT7jKb9yzG",
        "outputId": "a555a67b-4d76-45a9-ac14-128114904151"
      },
      "execution_count": null,
      "outputs": [
        {
          "output_type": "stream",
          "name": "stdout",
          "text": [
            "{\n",
            "'\\n':  0,\n",
            "' ' :  1,\n",
            "'!' :  2,\n",
            "'$' :  3,\n",
            "'&' :  4,\n",
            "\"'\" :  5,\n",
            "',' :  6,\n",
            "'-' :  7,\n",
            "'.' :  8,\n",
            "'3' :  9,\n",
            "':' : 10,\n",
            "';' : 11,\n",
            "'?' : 12,\n",
            "'A' : 13,\n",
            "'B' : 14,\n",
            "'C' : 15,\n",
            "'D' : 16,\n",
            "'E' : 17,\n",
            "'F' : 18,\n",
            "'G' : 19,\n",
            "...\n",
            "\n"
          ]
        }
      ]
    },
    {
      "cell_type": "code",
      "source": [
        "# map charcter indices to charcters from vocabulary\n",
        "index2char = np.array(vocab)\n",
        "print(index2char)"
      ],
      "metadata": {
        "colab": {
          "base_uri": "https://localhost:8080/"
        },
        "id": "eFZtbIPCAdc_",
        "outputId": "fa8ff5ce-9b23-4f50-f4a9-89fb1659bbcb"
      },
      "execution_count": null,
      "outputs": [
        {
          "output_type": "stream",
          "name": "stdout",
          "text": [
            "['\\n' ' ' '!' '$' '&' \"'\" ',' '-' '.' '3' ':' ';' '?' 'A' 'B' 'C' 'D' 'E'\n",
            " 'F' 'G' 'H' 'I' 'J' 'K' 'L' 'M' 'N' 'O' 'P' 'Q' 'R' 'S' 'T' 'U' 'V' 'W'\n",
            " 'X' 'Y' 'Z' 'a' 'b' 'c' 'd' 'e' 'f' 'g' 'h' 'i' 'j' 'k' 'l' 'm' 'n' 'o'\n",
            " 'p' 'q' 'r' 's' 't' 'u' 'v' 'w' 'x' 'y' 'z']\n"
          ]
        }
      ]
    },
    {
      "cell_type": "code",
      "source": [
        "# conver chars in text to indices\n",
        "\n",
        "text_as_int=np.array([char2index[char] for char in text])\n",
        "print('text_as_int length :{}'.format(len(text_as_int)))\n",
        "print('{}-->{}'.format(repr(text[:15]),repr(text_as_int[:15])))\n"
      ],
      "metadata": {
        "colab": {
          "base_uri": "https://localhost:8080/"
        },
        "id": "PSVgyhxNA6bz",
        "outputId": "ffb0ec99-324b-4159-e86e-1c6b1f7f3cd2"
      },
      "execution_count": null,
      "outputs": [
        {
          "output_type": "stream",
          "name": "stdout",
          "text": [
            "text_as_int length :1115394\n",
            "'First Citizen:\\n'-->array([18, 47, 56, 57, 58,  1, 15, 47, 58, 47, 64, 43, 52, 10,  0])\n"
          ]
        }
      ]
    },
    {
      "cell_type": "code",
      "source": [
        "# creating training sequence\n",
        "# the max length sentence we want for a single input\n",
        "\n",
        "sequence_length=100\n",
        "examples_per_epoch=len(text)//(sequence_length+1)\n",
        "print('example_per_epoch:',examples_per_epoch)"
      ],
      "metadata": {
        "colab": {
          "base_uri": "https://localhost:8080/"
        },
        "id": "3DLe2EI7DQJR",
        "outputId": "d0eda553-e2d5-4545-9afa-b3e51584615c"
      },
      "execution_count": null,
      "outputs": [
        {
          "output_type": "stream",
          "name": "stdout",
          "text": [
            "example_per_epoch: 11043\n"
          ]
        }
      ]
    },
    {
      "cell_type": "code",
      "source": [
        "# Create training dataset.\n",
        "char_dataset = tf.data.Dataset.from_tensor_slices(text_as_int)\n",
        "\n",
        "for char in char_dataset.take(5):\n",
        "    print(index2char[char.numpy()])"
      ],
      "metadata": {
        "colab": {
          "base_uri": "https://localhost:8080/"
        },
        "id": "IRPbeSV2FPk1",
        "outputId": "46c87797-04db-4d08-8f5b-6d0d751c14af"
      },
      "execution_count": null,
      "outputs": [
        {
          "output_type": "stream",
          "name": "stdout",
          "text": [
            "F\n",
            "i\n",
            "r\n",
            "s\n",
            "t\n"
          ]
        }
      ]
    },
    {
      "cell_type": "code",
      "source": [
        "# generate batched sequnces out_char_dataset\n",
        "sequences=char_dataset.batch(sequence_length+1,drop_remainder=True)\n",
        "# sequence size\n",
        "print('sequences count:{}'.format(len(list(sequences.as_numpy_iterator()))))\n",
        "\n",
        "for item in sequences.take(3):\n",
        "  print(repr(''.join(index2char[item.numpy()])))"
      ],
      "metadata": {
        "colab": {
          "base_uri": "https://localhost:8080/"
        },
        "id": "42gJT0GoFiT7",
        "outputId": "288e3ca1-dc20-4c27-a526-3a47260f15cb"
      },
      "execution_count": null,
      "outputs": [
        {
          "output_type": "stream",
          "name": "stdout",
          "text": [
            "sequences count:11043\n",
            "'First Citizen:\\nBefore we proceed any further, hear me speak.\\n\\nAll:\\nSpeak, speak.\\n\\nFirst Citizen:\\nYou '\n",
            "'are all resolved rather to die than to famish?\\n\\nAll:\\nResolved. resolved.\\n\\nFirst Citizen:\\nFirst, you k'\n",
            "\"now Caius Marcius is chief enemy to the people.\\n\\nAll:\\nWe know't, we know't.\\n\\nFirst Citizen:\\nLet us ki\"\n"
          ]
        }
      ]
    },
    {
      "cell_type": "code",
      "source": [
        "def split_input_target(chunk):\n",
        "  input_text=chunk[:-1]\n",
        "  target_text=chunk[1:]\n",
        "  return input_text,target_text"
      ],
      "metadata": {
        "id": "6eJPd1JTGyEg"
      },
      "execution_count": null,
      "outputs": []
    },
    {
      "cell_type": "code",
      "source": [
        "dataset=sequences.map(split_input_target)\n",
        "print('dataset size:{}'.format(len(list(dataset.as_numpy_iterator()))))\n"
      ],
      "metadata": {
        "colab": {
          "base_uri": "https://localhost:8080/"
        },
        "id": "eQIzL3AlHXST",
        "outputId": "4f4ddd7e-8685-4ddb-decf-a5032a00aafc"
      },
      "execution_count": null,
      "outputs": [
        {
          "output_type": "stream",
          "name": "stdout",
          "text": [
            "dataset size:11043\n"
          ]
        }
      ]
    },
    {
      "cell_type": "code",
      "source": [
        "for input_example,target_example in dataset.take(1):\n",
        "  print('input sequence size:',repr(len(input_example.numpy())))\n",
        "  print('Target sequence size:',repr(len(target_example.numpy())))\n",
        "  print('***************')\n",
        "  print('input:',repr(''.join(index2char[input_example.numpy()])))\n",
        "  print('Target:',repr(''.join(index2char[target_example.numpy()])))"
      ],
      "metadata": {
        "colab": {
          "base_uri": "https://localhost:8080/"
        },
        "id": "7Scz-vSpH4xS",
        "outputId": "0c992ed3-18bd-4468-c6aa-2cfeaa651416"
      },
      "execution_count": null,
      "outputs": [
        {
          "output_type": "stream",
          "name": "stdout",
          "text": [
            "input sequence size: 100\n",
            "Target sequence size: 100\n",
            "***************\n",
            "input: 'First Citizen:\\nBefore we proceed any further, hear me speak.\\n\\nAll:\\nSpeak, speak.\\n\\nFirst Citizen:\\nYou'\n",
            "Target: 'irst Citizen:\\nBefore we proceed any further, hear me speak.\\n\\nAll:\\nSpeak, speak.\\n\\nFirst Citizen:\\nYou '\n"
          ]
        }
      ]
    },
    {
      "cell_type": "code",
      "source": [
        "for i,(input_idx,target_idx) in enumerate(zip(input_example[:5],target_example[:5])):\n",
        "  print('step{:2d}'.format(i))\n",
        "  print('input:{}({:s})'.format(input_idx,repr(index2char[input_idx])))\n",
        "  print('executed output:{}({:s})'.format(target_idx,repr(index2char[target_idx])))"
      ],
      "metadata": {
        "colab": {
          "base_uri": "https://localhost:8080/"
        },
        "id": "LFOG6Oe_I4_M",
        "outputId": "ec9cd546-3ed7-48b2-c6ad-05e64e82c030"
      },
      "execution_count": null,
      "outputs": [
        {
          "output_type": "stream",
          "name": "stdout",
          "text": [
            "step 0\n",
            "input:18('F')\n",
            "executed output:47('i')\n",
            "step 1\n",
            "input:47('i')\n",
            "executed output:56('r')\n",
            "step 2\n",
            "input:56('r')\n",
            "executed output:57('s')\n",
            "step 3\n",
            "input:57('s')\n",
            "executed output:58('t')\n",
            "step 4\n",
            "input:58('t')\n",
            "executed output:1(' ')\n"
          ]
        }
      ]
    },
    {
      "cell_type": "code",
      "source": [
        "# splituing traing into bateches\n",
        "BATCH_SIZE=64\n",
        "\n",
        "BUFFER_SIZE=10000\n",
        "\n",
        "dataset=dataset.shuffle(BUFFER_SIZE).batch(BATCH_SIZE,drop_remainder=True)\n",
        "\n",
        "dataset"
      ],
      "metadata": {
        "colab": {
          "base_uri": "https://localhost:8080/"
        },
        "id": "AcPFpbFFKi87",
        "outputId": "292d1d4c-3d26-46cf-a832-738d0c3e9722"
      },
      "execution_count": null,
      "outputs": [
        {
          "output_type": "execute_result",
          "data": {
            "text/plain": [
              "<_BatchDataset element_spec=(TensorSpec(shape=(64, 100), dtype=tf.int64, name=None), TensorSpec(shape=(64, 100), dtype=tf.int64, name=None))>"
            ]
          },
          "metadata": {},
          "execution_count": 17
        }
      ]
    },
    {
      "cell_type": "code",
      "source": [
        "print('Batched datset size:{}'.format(len(list(dataset.as_numpy_iterator()))))"
      ],
      "metadata": {
        "colab": {
          "base_uri": "https://localhost:8080/"
        },
        "id": "farKGezwLmpr",
        "outputId": "e19f2fd9-485e-4e0c-b092-e16886782fe6"
      },
      "execution_count": null,
      "outputs": [
        {
          "output_type": "stream",
          "name": "stdout",
          "text": [
            "Batched datset size:172\n"
          ]
        }
      ]
    },
    {
      "cell_type": "code",
      "source": [
        "for input_text, target_text in dataset.take(1):\n",
        "  print('1st batch: input_text:', input_text)\n",
        "  print()\n",
        "  print('1st batch: target_text:', target_text)\n"
      ],
      "metadata": {
        "colab": {
          "base_uri": "https://localhost:8080/"
        },
        "id": "40y4xZxLMScI",
        "outputId": "02ddb003-8fe6-41eb-b59e-9e78bed73356"
      },
      "execution_count": null,
      "outputs": [
        {
          "output_type": "stream",
          "name": "stdout",
          "text": [
            "1st batch: input_text: tf.Tensor(\n",
            "[[50  1 58 ... 26 39 63]\n",
            " [57 43  1 ...  1 52 53]\n",
            " [53 58 43 ... 57 46 39]\n",
            " ...\n",
            " [58 39 49 ... 40 50 43]\n",
            " [58  0 32 ... 46 39 60]\n",
            " [54 47 58 ... 50 50  1]], shape=(64, 100), dtype=int64)\n",
            "\n",
            "1st batch: target_text: tf.Tensor(\n",
            "[[ 1 58 46 ... 39 63  6]\n",
            " [43  1 59 ... 52 53  1]\n",
            " [58 43 52 ... 46 39 50]\n",
            " ...\n",
            " [39 49 43 ... 50 43 57]\n",
            " [ 0 32 53 ... 39 60 43]\n",
            " [47 58 39 ... 50  1 46]], shape=(64, 100), dtype=int64)\n"
          ]
        }
      ]
    },
    {
      "cell_type": "code",
      "source": [
        "# build the model\n",
        "tmp_vocab_size=10\n",
        "tmp_embedding_size=5\n",
        "tmp_input_length=8\n",
        "tmp_batch_size=2\n",
        "\n",
        "tmp_model=tf.keras.models.Sequential()\n",
        "tmp_model.add(tf.keras.layers.Embedding(\n",
        "    input_dim=tmp_vocab_size,\n",
        "    output_dim=tmp_embedding_size,\n",
        "    input_length=tmp_input_length\n",
        "))\n",
        "\n",
        "\n",
        "tmp_input_array=np.random.randint(\n",
        "    low=0,\n",
        "    high=tmp_vocab_size,\n",
        "    size=(tmp_batch_size,tmp_input_length)\n",
        ")\n",
        "\n",
        "tmp_model.compile('rmsprop','mse')\n",
        "tmp_output_array=tmp_model.predict(tmp_input_array)\n",
        "print('tmp_input_array shape:',tmp_input_array.shape)\n",
        "print('tmp_input_array:')\n",
        "print(tmp_input_array)\n",
        "print('*******************')\n",
        "print('tmp_output_array shape:',tmp_output_array.shape)\n",
        "print(tmp_output_array)"
      ],
      "metadata": {
        "colab": {
          "base_uri": "https://localhost:8080/"
        },
        "id": "gbHfXlOqNIA-",
        "outputId": "b129fb0c-b855-4259-f132-896aad963baa"
      },
      "execution_count": null,
      "outputs": [
        {
          "output_type": "stream",
          "name": "stdout",
          "text": [
            "1/1 [==============================] - 0s 167ms/step\n",
            "tmp_input_array shape: (2, 8)\n",
            "tmp_input_array:\n",
            "[[0 5 4 0 4 8 6 4]\n",
            " [0 8 5 3 3 3 2 3]]\n",
            "*******************\n",
            "tmp_output_array shape: (2, 8, 5)\n",
            "[[[ 0.00762153  0.00233106 -0.03878095  0.02581208 -0.01545614]\n",
            "  [ 0.00901303 -0.01953213 -0.01972683 -0.03685208 -0.01424683]\n",
            "  [-0.01205789 -0.04537904 -0.01868731 -0.0072579  -0.00391892]\n",
            "  [ 0.00762153  0.00233106 -0.03878095  0.02581208 -0.01545614]\n",
            "  [-0.01205789 -0.04537904 -0.01868731 -0.0072579  -0.00391892]\n",
            "  [ 0.01890477  0.032906    0.01457625 -0.01711503 -0.03684989]\n",
            "  [ 0.04890524  0.03763841 -0.01704351  0.00122295  0.02533739]\n",
            "  [-0.01205789 -0.04537904 -0.01868731 -0.0072579  -0.00391892]]\n",
            "\n",
            " [[ 0.00762153  0.00233106 -0.03878095  0.02581208 -0.01545614]\n",
            "  [ 0.01890477  0.032906    0.01457625 -0.01711503 -0.03684989]\n",
            "  [ 0.00901303 -0.01953213 -0.01972683 -0.03685208 -0.01424683]\n",
            "  [-0.00764783  0.03832748  0.03062992  0.0406027  -0.00854633]\n",
            "  [-0.00764783  0.03832748  0.03062992  0.0406027  -0.00854633]\n",
            "  [-0.00764783  0.03832748  0.03062992  0.0406027  -0.00854633]\n",
            "  [ 0.03254512 -0.04365996  0.0152644   0.03689606 -0.04684085]\n",
            "  [-0.00764783  0.03832748  0.03062992  0.0406027  -0.00854633]]]\n"
          ]
        }
      ]
    },
    {
      "cell_type": "code",
      "source": [
        "# length of vocabulary in chars\n",
        "vocab_size=len(vocab)\n",
        "embedding_dim=256\n",
        "rnn_units=1024"
      ],
      "metadata": {
        "id": "8OwnlR3WyRWq"
      },
      "execution_count": null,
      "outputs": []
    },
    {
      "cell_type": "code",
      "source": [
        "def build_model(vocab_size,embedding_dim,rnn_units,batch_size):\n",
        "  model=tf.keras.models.Sequential()\n",
        "  model.add(tf.keras.layers.Embedding(\n",
        "      input_dim=vocab_size,\n",
        "      output_dim=embedding_dim,\n",
        "      batch_input_shape=[batch_size,None]\n",
        "  ))\n",
        "  model.add(tf.keras.layers.LSTM(\n",
        "      units=rnn_units,\n",
        "      return_sequences=True,\n",
        "      stateful=True,\n",
        "      recurrent_initializer=tf.keras.initializers.GlorotNormal()\n",
        "  ))\n",
        "\n",
        "  model.add(tf.keras.layers.Dense(vocab_size))\n",
        "\n",
        "  return model"
      ],
      "metadata": {
        "id": "e8RLB5hpyogd"
      },
      "execution_count": null,
      "outputs": []
    },
    {
      "cell_type": "code",
      "source": [
        "model=build_model(vocab_size,embedding_dim,rnn_units,BATCH_SIZE)\n",
        "model.summary()"
      ],
      "metadata": {
        "colab": {
          "base_uri": "https://localhost:8080/"
        },
        "id": "60zkKcQpztbN",
        "outputId": "c34b15a2-66df-4522-a979-7e5023dc6eb4"
      },
      "execution_count": null,
      "outputs": [
        {
          "output_type": "stream",
          "name": "stdout",
          "text": [
            "Model: \"sequential_1\"\n",
            "_________________________________________________________________\n",
            " Layer (type)                Output Shape              Param #   \n",
            "=================================================================\n",
            " embedding_1 (Embedding)     (64, None, 256)           16640     \n",
            "                                                                 \n",
            " lstm (LSTM)                 (64, None, 1024)          5246976   \n",
            "                                                                 \n",
            " dense (Dense)               (64, None, 65)            66625     \n",
            "                                                                 \n",
            "=================================================================\n",
            "Total params: 5,330,241\n",
            "Trainable params: 5,330,241\n",
            "Non-trainable params: 0\n",
            "_________________________________________________________________\n"
          ]
        }
      ]
    },
    {
      "cell_type": "code",
      "source": [
        "tf.keras.utils.plot_model(\n",
        "    model,\n",
        "    show_shapes=True,\n",
        "    show_layer_names=True\n",
        ")"
      ],
      "metadata": {
        "colab": {
          "base_uri": "https://localhost:8080/",
          "height": 422
        },
        "id": "JZVTd5Dh0I7K",
        "outputId": "002b5b81-50ce-412f-fe21-cb6d7986292e"
      },
      "execution_count": null,
      "outputs": [
        {
          "output_type": "execute_result",
          "data": {
            "image/png": "[encoded data removed]",
            "text/plain": [
              "<IPython.core.display.Image object>"
            ]
          },
          "metadata": {},
          "execution_count": 24
        }
      ]
    },
    {
      "cell_type": "code",
      "source": [
        "# try another model\n",
        "for input_example_batch,target_example_batch in dataset.take(1):\n",
        "  example_batch_predictions=model(input_example_batch)\n",
        "  print(example_batch_predictions.shape,\"# (batch_size,sequence_length,vocab_size)\")"
      ],
      "metadata": {
        "colab": {
          "base_uri": "https://localhost:8080/"
        },
        "id": "pZEb1e4e0oX7",
        "outputId": "11f430b2-72ab-447d-d1c3-c6f2d111cc30"
      },
      "execution_count": null,
      "outputs": [
        {
          "output_type": "stream",
          "name": "stdout",
          "text": [
            "(64, 100, 65) # (batch_size,sequence_length,vocab_size)\n"
          ]
        }
      ]
    },
    {
      "cell_type": "code",
      "source": [
        "print('prediction for the 1st letter of the batch 1st sequences:')\n",
        "print(example_batch_predictions[0,0])"
      ],
      "metadata": {
        "colab": {
          "base_uri": "https://localhost:8080/"
        },
        "id": "ycLZY8sM2x4r",
        "outputId": "ec922512-3ebc-42b8-99d5-a081c9358987"
      },
      "execution_count": null,
      "outputs": [
        {
          "output_type": "stream",
          "name": "stdout",
          "text": [
            "prediction for the 1st letter of the batch 1st sequences:\n",
            "tf.Tensor(\n",
            "[-1.3374280e-03  6.0955808e-04 -1.8946030e-03 -2.2991444e-03\n",
            " -4.9947470e-04 -2.3877791e-03 -5.9508753e-04 -6.2510464e-03\n",
            " -4.5707063e-03  2.2155817e-03  3.5125336e-03 -2.6415726e-03\n",
            "  1.8983127e-03 -1.9093406e-03 -2.9857752e-03  5.4636933e-03\n",
            "  3.3465205e-03  2.5780965e-04 -2.8075872e-03 -2.0078043e-03\n",
            "  4.1747307e-03 -6.0831727e-03 -4.0097651e-03 -2.9311045e-03\n",
            " -4.1758302e-03  4.2488067e-03  5.2731484e-05  8.6131349e-04\n",
            "  2.0226464e-04  4.6305940e-03 -8.0816802e-03  2.0421487e-03\n",
            " -5.9140511e-03 -4.4921908e-05 -6.9186593e-05 -2.6859669e-03\n",
            " -3.9334958e-03  5.4985387e-03 -2.0172952e-03  1.3002101e-03\n",
            "  9.7313162e-04 -2.1637920e-03  9.0114726e-03 -3.2603024e-03\n",
            "  9.6901809e-04 -1.3599377e-03  4.1313606e-04  4.7445903e-03\n",
            " -4.1855592e-03  4.6452926e-03 -9.2639751e-04 -1.2970975e-03\n",
            " -1.7798333e-03  2.9881743e-03  7.7027711e-04 -7.2241956e-03\n",
            " -4.5236740e-03 -2.0322152e-03 -2.3638732e-03  4.7525102e-03\n",
            " -3.8654751e-03  3.6932463e-03 -4.3701497e-03  5.5197277e-04\n",
            "  4.9766656e-03], shape=(65,), dtype=float32)\n"
          ]
        }
      ]
    },
    {
      "cell_type": "code",
      "source": [
        "temp_logits=[\n",
        "    [-0.95,0,0.95]\n",
        "];\n",
        "\n",
        "\n",
        "tmp_samples=tf.random.categorical(\n",
        "    logits=temp_logits,\n",
        "    num_samples=5\n",
        ")\n",
        "print(tmp_samples)"
      ],
      "metadata": {
        "colab": {
          "base_uri": "https://localhost:8080/"
        },
        "id": "7wNKzjG33EZl",
        "outputId": "12c51c8a-cc3d-4166-b6bc-43b80d2083d0"
      },
      "execution_count": null,
      "outputs": [
        {
          "output_type": "stream",
          "name": "stdout",
          "text": [
            "tf.Tensor([[2 2 1 2 2]], shape=(1, 5), dtype=int64)\n"
          ]
        }
      ]
    },
    {
      "cell_type": "code",
      "source": [
        "sampled_indices=tf.random.categorical(\n",
        "    logits=example_batch_predictions[0],\n",
        "    num_samples=1\n",
        ")\n",
        "sampled_indices.shape"
      ],
      "metadata": {
        "colab": {
          "base_uri": "https://localhost:8080/"
        },
        "id": "T0bC48Og3hYy",
        "outputId": "5e7ddf72-4901-4823-e883-17320e31a57f"
      },
      "execution_count": null,
      "outputs": [
        {
          "output_type": "execute_result",
          "data": {
            "text/plain": [
              "TensorShape([100, 1])"
            ]
          },
          "metadata": {},
          "execution_count": 28
        }
      ]
    },
    {
      "cell_type": "code",
      "source": [
        "sampled_indices=tf.squeeze(\n",
        "    input=sampled_indices,\n",
        "    axis=-1\n",
        "\n",
        ").numpy()\n",
        "sampled_indices.shape"
      ],
      "metadata": {
        "colab": {
          "base_uri": "https://localhost:8080/"
        },
        "id": "axwsh9Dh4oWA",
        "outputId": "d62a8d73-fbd1-4d61-c4ae-a1cf31b7e06a"
      },
      "execution_count": null,
      "outputs": [
        {
          "output_type": "execute_result",
          "data": {
            "text/plain": [
              "(100,)"
            ]
          },
          "metadata": {},
          "execution_count": 29
        }
      ]
    },
    {
      "cell_type": "code",
      "source": [
        "sampled_indices"
      ],
      "metadata": {
        "colab": {
          "base_uri": "https://localhost:8080/"
        },
        "id": "W6ec5OMT488x",
        "outputId": "4e5e151e-edd2-403d-af00-16a7fdf75d0e"
      },
      "execution_count": null,
      "outputs": [
        {
          "output_type": "execute_result",
          "data": {
            "text/plain": [
              "array([50, 45, 54,  5, 62, 62, 56,  7,  4, 24,  3, 56, 28, 32, 38, 63, 39,\n",
              "       13, 46, 51, 10, 64,  5,  9, 37, 39, 48,  6, 54,  7, 42, 39, 16,  5,\n",
              "        0,  0,  2,  5, 40,  6,  6, 37, 41,  8,  1, 55, 33, 20, 14, 17, 48,\n",
              "       41, 18, 58,  6, 50, 12, 12, 29, 11, 44, 61,  3,  4, 25, 58,  3, 60,\n",
              "       52, 41,  7, 25, 40, 11, 49, 10, 57, 38,  6, 32, 52, 28, 55, 62, 34,\n",
              "        0, 24, 30, 12, 36, 15, 16, 28,  4, 14, 35, 58,  3, 24, 56])"
            ]
          },
          "metadata": {},
          "execution_count": 30
        }
      ]
    },
    {
      "cell_type": "code",
      "source": [
        "print('input :\\n',repr(''.join(index2char[input_example_batch[0]])))\n",
        "print(\"*******************\")\n",
        "print('next char prediction;\\n',repr(''.join(index2char[sampled_indices])))"
      ],
      "metadata": {
        "colab": {
          "base_uri": "https://localhost:8080/"
        },
        "id": "WffUnpLG5DmD",
        "outputId": "1ff3f9d2-d1fb-495d-92af-f84aa7281d96"
      },
      "execution_count": null,
      "outputs": [
        {
          "output_type": "stream",
          "name": "stdout",
          "text": [
            "input :\n",
            " \"eror;\\nFor now he lives in fame, though not in life.\\nI'll tell you what, my cousin Buckingham,--\\n\\nBUC\"\n",
            "*******************\n",
            "next char prediction;\n",
            " \"lgp'xxr-&L$rPTZyaAhm:z'3Yaj,p-daD'\\n\\n!'b,,Yc. qUHBEjcFt,l??Q;fw$&Mt$vnc-Mb;k:sZ,TnPqxV\\nLR?XCDP&BWt$Lr\"\n"
          ]
        }
      ]
    },
    {
      "cell_type": "code",
      "source": [
        "for i, (input_idx, sample_idx) in enumerate(zip(input_example_batch[0][:5], sampled_indices[:5])):\n",
        "    print('Prediction {:2d}'.format(i))\n",
        "    print('  input: {} ({:s})'.format(input_idx, repr(index2char[input_idx])))\n",
        "    print('  next predicted: {} ({:s})'.format(target_idx, repr(index2char[sample_idx])))"
      ],
      "metadata": {
        "colab": {
          "base_uri": "https://localhost:8080/"
        },
        "id": "4ZtUhE5t6amR",
        "outputId": "e0ae105e-4ab0-4b67-c4f1-7ab719e1e128"
      },
      "execution_count": null,
      "outputs": [
        {
          "output_type": "stream",
          "name": "stdout",
          "text": [
            "Prediction  0\n",
            "  input: 43 ('e')\n",
            "  next predicted: 1 ('l')\n",
            "Prediction  1\n",
            "  input: 56 ('r')\n",
            "  next predicted: 1 ('g')\n",
            "Prediction  2\n",
            "  input: 53 ('o')\n",
            "  next predicted: 1 ('p')\n",
            "Prediction  3\n",
            "  input: 56 ('r')\n",
            "  next predicted: 1 (\"'\")\n",
            "Prediction  4\n",
            "  input: 11 (';')\n",
            "  next predicted: 1 ('x')\n"
          ]
        }
      ]
    },
    {
      "cell_type": "code",
      "source": [
        "# train the model\n",
        "def loss(labels,logits):\n",
        "  return tf.keras.losses.sparse_categorical_crossentropy(\n",
        "      y_true=labels,\n",
        "      y_pred=logits,\n",
        "      from_logits=True\n",
        "  )\n",
        "example_batch_loss=loss(target_example_batch,example_batch_predictions)\n",
        "print(\"Prediction shape: \", example_batch_predictions.shape, \" # (batch_size, sequence_length, vocab_size)\")\n",
        "print(\"scalar_loss:      \", example_batch_loss.numpy().mean())"
      ],
      "metadata": {
        "colab": {
          "base_uri": "https://localhost:8080/"
        },
        "id": "8P7uL2Fh6c3d",
        "outputId": "a5deb7d3-0603-4ad2-a38b-fd87e7434d2a"
      },
      "execution_count": null,
      "outputs": [
        {
          "output_type": "stream",
          "name": "stdout",
          "text": [
            "Prediction shape:  (64, 100, 65)  # (batch_size, sequence_length, vocab_size)\n",
            "scalar_loss:       4.174136\n"
          ]
        }
      ]
    },
    {
      "cell_type": "code",
      "source": [
        "adam_optimizer=tf.keras.optimizers.Adam(learning_rate=0.001)\n",
        "model.compile(\n",
        "    optimizer=adam_optimizer,\n",
        "    loss=loss\n",
        ")"
      ],
      "metadata": {
        "id": "d8HnSNvj72VV"
      },
      "execution_count": null,
      "outputs": []
    },
    {
      "cell_type": "code",
      "source": [
        "# checkpont\n",
        "checkpoint_dir='tmp/checkpoints'\n",
        "os.makedirs(checkpoint_dir,exist_ok=True)\n",
        "\n",
        "checkpoint_prefix=os.path.join(checkpoint_dir,'ckpt_{epoch}')\n",
        "checkpoint_callback=tf.keras.callbacks.ModelCheckpoint(\n",
        "    filepath=checkpoint_prefix,\n",
        "    save_weights_only=True\n",
        ")"
      ],
      "metadata": {
        "id": "pZctkWEt8yvK"
      },
      "execution_count": null,
      "outputs": []
    },
    {
      "cell_type": "code",
      "source": [
        "EPOCHS=1\n",
        "history=model.fit(\n",
        "    x=dataset,\n",
        "    epochs=EPOCHS,\n",
        "    callbacks=[\n",
        "        checkpoint_callback\n",
        "    ]\n",
        ")"
      ],
      "metadata": {
        "colab": {
          "base_uri": "https://localhost:8080/"
        },
        "id": "KRU3G0aZ8NDQ",
        "outputId": "db13fcb0-8956-495f-dc43-6ed05ac03419"
      },
      "execution_count": null,
      "outputs": [
        {
          "output_type": "stream",
          "name": "stdout",
          "text": [
            "172/172 [==============================] - 1638s 9s/step - loss: 1.9164\n"
          ]
        }
      ]
    },
    {
      "cell_type": "code",
      "source": [
        "def render_training_history(training_history):\n",
        "    loss = training_history.history['loss']\n",
        "    plt.title('Loss')\n",
        "    plt.xlabel('Epoch')\n",
        "    plt.ylabel('Loss')\n",
        "    plt.plot(loss, label='Training set')\n",
        "    plt.legend()\n",
        "    plt.grid(linestyle='--', linewidth=1, alpha=0.5)\n",
        "    plt.show()"
      ],
      "metadata": {
        "id": "0_lu2QM6_hTo"
      },
      "execution_count": null,
      "outputs": []
    },
    {
      "cell_type": "code",
      "source": [
        "render_training_history(history)"
      ],
      "metadata": {
        "colab": {
          "base_uri": "https://localhost:8080/",
          "height": 472
        },
        "id": "Npie_97M_0_f",
        "outputId": "6eec197a-b3d0-4819-cf11-5d1f964225f5"
      },
      "execution_count": null,
      "outputs": [
        {
          "output_type": "display_data",
          "data": {
            "text/plain": [
              "<Figure size 640x480 with 1 Axes>"
            ],
            "image/png": "[encoded data removed]"
          },
          "metadata": {}
        }
      ]
    },
    {
      "cell_type": "markdown",
      "source": [
        "Generate text"
      ],
      "metadata": {
        "id": "PJk6iD_K_-NV"
      }
    },
    {
      "cell_type": "code",
      "source": [
        "tf.train.latest_checkpoint(checkpoint_dir)"
      ],
      "metadata": {
        "colab": {
          "base_uri": "https://localhost:8080/",
          "height": 36
        },
        "id": "rdt913TfABv-",
        "outputId": "6aa181ba-c2da-497c-82ea-2b63f4dedc05"
      },
      "execution_count": null,
      "outputs": [
        {
          "output_type": "execute_result",
          "data": {
            "text/plain": [
              "'tmp/checkpoints/ckpt_1'"
            ],
            "application/vnd.google.colaboratory.intrinsic+json": {
              "type": "string"
            }
          },
          "metadata": {},
          "execution_count": 40
        }
      ]
    },
    {
      "cell_type": "code",
      "source": [
        "simplified_batch_size = 1\n",
        "\n",
        "model = build_model(vocab_size, embedding_dim, rnn_units, batch_size=1)\n",
        "\n",
        "model.load_weights(tf.train.latest_checkpoint(checkpoint_dir))\n",
        "\n",
        "model.build(tf.TensorShape([simplified_batch_size, None]))"
      ],
      "metadata": {
        "id": "Q2EDRddVAEA7"
      },
      "execution_count": null,
      "outputs": []
    },
    {
      "cell_type": "code",
      "source": [
        "model.summary()"
      ],
      "metadata": {
        "colab": {
          "base_uri": "https://localhost:8080/"
        },
        "id": "Jc_u04NAAGhm",
        "outputId": "b4f12979-8463-4fbd-904a-3cfe2f9f01d7"
      },
      "execution_count": null,
      "outputs": [
        {
          "output_type": "stream",
          "name": "stdout",
          "text": [
            "Model: \"sequential_2\"\n",
            "_________________________________________________________________\n",
            " Layer (type)                Output Shape              Param #   \n",
            "=================================================================\n",
            " embedding_2 (Embedding)     (1, None, 256)            16640     \n",
            "                                                                 \n",
            " lstm_1 (LSTM)               (1, None, 1024)           5246976   \n",
            "                                                                 \n",
            " dense_1 (Dense)             (1, None, 65)             66625     \n",
            "                                                                 \n",
            "=================================================================\n",
            "Total params: 5,330,241\n",
            "Trainable params: 5,330,241\n",
            "Non-trainable params: 0\n",
            "_________________________________________________________________\n"
          ]
        }
      ]
    },
    {
      "cell_type": "code",
      "source": [
        "# num_generate\n",
        "# - number of characters to generate.\n",
        "#\n",
        "# temperature\n",
        "# - Low temperatures results in more predictable text.\n",
        "# - Higher temperatures results in more surprising text.\n",
        "# - Experiment to find the best setting.\n",
        "def generate_text(model, start_string, num_generate = 1000, temperature=1.0):\n",
        "    # Evaluation step (generating text using the learned model)\n",
        "\n",
        "    # Converting our start string to numbers (vectorizing).\n",
        "    input_indices = [char2index[s] for s in start_string]\n",
        "    input_indices = tf.expand_dims(input_indices, 0)\n",
        "\n",
        "    # Empty string to store our results.\n",
        "    text_generated = []\n",
        "\n",
        "    # Here batch size == 1.\n",
        "    model.reset_states()\n",
        "    for char_index in range(num_generate):\n",
        "        predictions = model(input_indices)\n",
        "        # remove the batch dimension\n",
        "        predictions = tf.squeeze(predictions, 0)\n",
        "\n",
        "        # Using a categorical distribution to predict the character returned by the model.\n",
        "        predictions = predictions / temperature\n",
        "        predicted_id = tf.random.categorical(\n",
        "        predictions,\n",
        "        num_samples=1\n",
        "        )[-1,0].numpy()\n",
        "\n",
        "        # We pass the predicted character as the next input to the model\n",
        "        # along with the previous hidden state.\n",
        "        input_indices = tf.expand_dims([predicted_id], 0)\n",
        "\n",
        "        text_generated.append(index2char[predicted_id])\n",
        "\n",
        "    return (start_string + ''.join(text_generated))"
      ],
      "metadata": {
        "id": "90RiaD7IALgr"
      },
      "execution_count": null,
      "outputs": []
    },
    {
      "cell_type": "code",
      "source": [
        "# Generate the text with default temperature (1.0).\n",
        "print(generate_text(model, start_string=u\"ROMEO: \"))"
      ],
      "metadata": {
        "colab": {
          "base_uri": "https://localhost:8080/"
        },
        "id": "iOZ0UuCFAOd0",
        "outputId": "fbe82dca-9d67-4c61-df06-d06d32ee8c72"
      },
      "execution_count": null,
      "outputs": [
        {
          "output_type": "stream",
          "name": "stdout",
          "text": [
            "ROMEO: LYUZZKUMV$FU$QzQ3CzV&X3SD$zD&Q!&zqxzQ$MZY3X$3V3ZKZZQDZU&LCUZz&FZ$zGD3Q&Y3&3j$CkJz3zv&MUVKx3Knz&zQzL3&x&3V3D?Zz&EKjxVJzzQL$B3z333$3IWZD$&qG3Yz$Zzz$3NMK3S$D&FKK33&&JFJLK&&VUQYQX&vzKYqX&K&KV3KJzSJQ&3VXN$zJ3JYDHBPLXYYzJJj$&&$Q$ZQYTX$KV&Jz$&Jz&u&XzD3Z3&&$$j&DQ33Q&Uz$3zKQzD3J3CVNz3zZU!SUJWzQJz&Q$zj$KRHCEvZZD3zEJN?$ZxQHYzzVzKZz3$FQU$xzxV$&$3ZX&KNZ&X3xJZ&&J$zzCzQWS&BX&DKCQ?Zx$zY?K3K$JJ3$HE3zQzZ3&x&CU&$&$&GSKz$x$YNKQQ&&KKNY3zVZY&J3z&&$zzMz&Z3SI&XZz&YDzA3JXzKZzDVEKQ$HZNJUZHVEE?GVV&KQ&YL&ZEOz$DZNzZZX&jJ$3JVXjZEdQVO;z33UUKzY3QZJzXC3KZLMMH3Y&XzQDQHPK3YzzXY&V;3Z$FZQZ3F&Xz$z&zzX&N&&&$$$VZzzJDQSU&&JxQ&Uz3XTDQ$KKC&E$&$QU&ZQF$VzW3z&KJ?CLz&XQJzKJ3$xVYKZ$3LKMYvGQz&Y&$VZVQj$H$Q3&&KjZMX$zQYP$;C$jYDJ&z$k3&V$&3RMV$&$P&$YPZ$KM3X&&&3Zqx3FZ$K3x$$zCUCJ$$$3xzzzz$$QExVJJJzjxzV3&3&XKv33zzjQzQJXZZE$Bq$JQzQU$ULXz$JZKZ$KQQ3VYVK3KSX3$KV&xM&SFHVYKKDKx$&VOV3Xxq3$3j3QKV3$UKJz$UCQK?&&z$$$$E3$z$33Q3$K;Kz&3$HzVZz$X3X?VSHQKVKUGJ3JV3D3HDWJzQ$LFvXCz&zPJQUB&XVQ&xH3$KQJHz3Q&z&&xSU$Dz&DV3QKX&Qzz3jxDzzVJ$$Qx3SHXzQU$zYHz3zK3&KZ3QWQ33\n"
          ]
        }
      ]
    }
  ]
}